{
 "cells": [
  {
   "cell_type": "markdown",
   "id": "279de831",
   "metadata": {},
   "source": [
    " 1- Abro los archivos de texto correspondientes\n",
    "\n",
    " 2- Los leo con los read y separo con split\n",
    " \n",
    " 3- Creo una variable de tipo diccionario para almacenar el total de las notas de los alumnos en base a sus nombres y otra de  para ir sumando el total de notas para sacar el promedio\n",
    " \n",
    " 4- En el for voy guardando en el diccionario el total de las notas de los alumnos y al mismo tiempo voy sumando el total de esas notas al promedio en la variable 'promedio'\n",
    "\n",
    " 5- Divido el promedio por la cantidad de alumnos para sacarlo, la cantidad de alumnos la saco con : len(total_notas) \n",
    " \n",
    " 6- Imprimo los alumnos que tuvieron menos nota que el promedio\n",
    " \n",
    " 7- Cierro los archivos abiertos anteriormente"
   ]
  },
  {
   "cell_type": "code",
   "execution_count": 1,
   "id": "4a3e8cd5",
   "metadata": {},
   "outputs": [
    {
     "name": "stdout",
     "output_type": "stream",
     "text": [
      "91.62790697674419\n",
      "alumnos que obtuvieron menos que el promedio: \n",
      "Agustin\n",
      "CESAR\n",
      "Diego\n",
      "Dolores\n",
      "DYLAN\n",
      "ELIANA\n",
      "Emanuel\n",
      "GONZALO\n",
      "Gregorio\n",
      "Ignacio\n",
      "Jonathan\n",
      "Jorge\n",
      "JUAN\n",
      "Julian\n",
      "Leonel\n",
      "Nicolás\n",
      "NICOLÁS\n",
      "Priscila\n",
      "Yanina\n"
     ]
    },
    {
     "data": {
      "text/plain": [
       "<function TextIOWrapper.close()>"
      ]
     },
     "execution_count": 1,
     "metadata": {},
     "output_type": "execute_result"
    }
   ],
   "source": [
    "alumnos_arch = open('nombres_1.txt', 'r',encoding='utf-8')\n",
    "nota1_arch = open('eval1.txt', 'r',encoding='utf-8')\n",
    "nota2_arch = open('eval2.txt', 'r',encoding='utf-8')\n",
    "\n",
    "\n",
    "alumnos = alumnos_arch.read().split()\n",
    "nota1 = nota1_arch.read().split()\n",
    "nota2 = nota2_arch.read().split()\n",
    "\n",
    "\n",
    "total_notas = {}\n",
    "promedio = 0\n",
    "\n",
    "for nombres_1, eval1, eval2 in zip(alumnos, nota1, nota2):\n",
    "    total_notas[nombres_1.strip('\\n,\\' ')] = (int(eval1.strip('\\n, ')) + int(eval2.strip('\\n, ')))\n",
    "\n",
    "for nombre in total_notas:\n",
    "    promedio+=  total_notas[nombre]\n",
    "\n",
    "\n",
    "\n",
    "promedio = promedio / len(total_notas)\n",
    "\n",
    "print(promedio)\n",
    "\n",
    "print('alumnos que obtuvieron menos que el promedio: ')\n",
    "for nombre in total_notas:\n",
    "    if total_notas[nombre] < promedio:\n",
    "        print(nombre)\n",
    "\n",
    "\n",
    "alumnos_arch.close\n",
    "nota1_arch.close\n",
    "nota2_arch.close\n",
    "\n"
   ]
  }
 ],
 "metadata": {
  "kernelspec": {
   "display_name": "Python 3 (ipykernel)",
   "language": "python",
   "name": "python3"
  },
  "language_info": {
   "codemirror_mode": {
    "name": "ipython",
    "version": 3
   },
   "file_extension": ".py",
   "mimetype": "text/x-python",
   "name": "python",
   "nbconvert_exporter": "python",
   "pygments_lexer": "ipython3",
   "version": "3.10.3"
  }
 },
 "nbformat": 4,
 "nbformat_minor": 5
}
